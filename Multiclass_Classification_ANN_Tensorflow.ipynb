{
  "nbformat": 4,
  "nbformat_minor": 0,
  "metadata": {
    "colab": {
      "provenance": [],
      "gpuType": "T4"
    },
    "kernelspec": {
      "name": "python3",
      "display_name": "Python 3"
    },
    "language_info": {
      "name": "python"
    },
    "accelerator": "GPU"
  },
  "cells": [
    {
      "cell_type": "code",
      "execution_count": 15,
      "metadata": {
        "id": "ZVtbrP3_gHBg"
      },
      "outputs": [],
      "source": [
        "import tensorflow\n",
        "from tensorflow import keras\n",
        "\n",
        "#keras is the library of Tensorflow framework"
      ]
    },
    {
      "cell_type": "code",
      "source": [
        "(x_train,y_train),(x_test,y_test)=keras.datasets.mnist.load_data()\n",
        "\n",
        "#mnist dataset is available in keras so directly load in our variables"
      ],
      "metadata": {
        "id": "oPeqXgg9gSef"
      },
      "execution_count": 16,
      "outputs": []
    },
    {
      "cell_type": "code",
      "source": [
        "print(x_train.shape)\n",
        "print(y_train.shape)\n",
        "print(x_test.shape)\n",
        "print(y_test.shape)"
      ],
      "metadata": {
        "colab": {
          "base_uri": "https://localhost:8080/"
        },
        "id": "-62MbkiSgj7V",
        "outputId": "d589ad30-f5d6-4510-c82e-098914256e94"
      },
      "execution_count": 17,
      "outputs": [
        {
          "output_type": "stream",
          "name": "stdout",
          "text": [
            "(60000, 28, 28)\n",
            "(60000,)\n",
            "(10000, 28, 28)\n",
            "(10000,)\n"
          ]
        }
      ]
    },
    {
      "cell_type": "code",
      "source": [
        "print(x_train[0])\n",
        "\n",
        "#how 28 * 28 gray scale image pixel values look like"
      ],
      "metadata": {
        "colab": {
          "base_uri": "https://localhost:8080/"
        },
        "id": "dxWG4wqTgyQq",
        "outputId": "be9f9560-abe6-4e1e-dff1-6467b3afd622"
      },
      "execution_count": 18,
      "outputs": [
        {
          "output_type": "stream",
          "name": "stdout",
          "text": [
            "[[  0   0   0   0   0   0   0   0   0   0   0   0   0   0   0   0   0   0\n",
            "    0   0   0   0   0   0   0   0   0   0]\n",
            " [  0   0   0   0   0   0   0   0   0   0   0   0   0   0   0   0   0   0\n",
            "    0   0   0   0   0   0   0   0   0   0]\n",
            " [  0   0   0   0   0   0   0   0   0   0   0   0   0   0   0   0   0   0\n",
            "    0   0   0   0   0   0   0   0   0   0]\n",
            " [  0   0   0   0   0   0   0   0   0   0   0   0   0   0   0   0   0   0\n",
            "    0   0   0   0   0   0   0   0   0   0]\n",
            " [  0   0   0   0   0   0   0   0   0   0   0   0   0   0   0   0   0   0\n",
            "    0   0   0   0   0   0   0   0   0   0]\n",
            " [  0   0   0   0   0   0   0   0   0   0   0   0   3  18  18  18 126 136\n",
            "  175  26 166 255 247 127   0   0   0   0]\n",
            " [  0   0   0   0   0   0   0   0  30  36  94 154 170 253 253 253 253 253\n",
            "  225 172 253 242 195  64   0   0   0   0]\n",
            " [  0   0   0   0   0   0   0  49 238 253 253 253 253 253 253 253 253 251\n",
            "   93  82  82  56  39   0   0   0   0   0]\n",
            " [  0   0   0   0   0   0   0  18 219 253 253 253 253 253 198 182 247 241\n",
            "    0   0   0   0   0   0   0   0   0   0]\n",
            " [  0   0   0   0   0   0   0   0  80 156 107 253 253 205  11   0  43 154\n",
            "    0   0   0   0   0   0   0   0   0   0]\n",
            " [  0   0   0   0   0   0   0   0   0  14   1 154 253  90   0   0   0   0\n",
            "    0   0   0   0   0   0   0   0   0   0]\n",
            " [  0   0   0   0   0   0   0   0   0   0   0 139 253 190   2   0   0   0\n",
            "    0   0   0   0   0   0   0   0   0   0]\n",
            " [  0   0   0   0   0   0   0   0   0   0   0  11 190 253  70   0   0   0\n",
            "    0   0   0   0   0   0   0   0   0   0]\n",
            " [  0   0   0   0   0   0   0   0   0   0   0   0  35 241 225 160 108   1\n",
            "    0   0   0   0   0   0   0   0   0   0]\n",
            " [  0   0   0   0   0   0   0   0   0   0   0   0   0  81 240 253 253 119\n",
            "   25   0   0   0   0   0   0   0   0   0]\n",
            " [  0   0   0   0   0   0   0   0   0   0   0   0   0   0  45 186 253 253\n",
            "  150  27   0   0   0   0   0   0   0   0]\n",
            " [  0   0   0   0   0   0   0   0   0   0   0   0   0   0   0  16  93 252\n",
            "  253 187   0   0   0   0   0   0   0   0]\n",
            " [  0   0   0   0   0   0   0   0   0   0   0   0   0   0   0   0   0 249\n",
            "  253 249  64   0   0   0   0   0   0   0]\n",
            " [  0   0   0   0   0   0   0   0   0   0   0   0   0   0  46 130 183 253\n",
            "  253 207   2   0   0   0   0   0   0   0]\n",
            " [  0   0   0   0   0   0   0   0   0   0   0   0  39 148 229 253 253 253\n",
            "  250 182   0   0   0   0   0   0   0   0]\n",
            " [  0   0   0   0   0   0   0   0   0   0  24 114 221 253 253 253 253 201\n",
            "   78   0   0   0   0   0   0   0   0   0]\n",
            " [  0   0   0   0   0   0   0   0  23  66 213 253 253 253 253 198  81   2\n",
            "    0   0   0   0   0   0   0   0   0   0]\n",
            " [  0   0   0   0   0   0  18 171 219 253 253 253 253 195  80   9   0   0\n",
            "    0   0   0   0   0   0   0   0   0   0]\n",
            " [  0   0   0   0  55 172 226 253 253 253 253 244 133  11   0   0   0   0\n",
            "    0   0   0   0   0   0   0   0   0   0]\n",
            " [  0   0   0   0 136 253 253 253 212 135 132  16   0   0   0   0   0   0\n",
            "    0   0   0   0   0   0   0   0   0   0]\n",
            " [  0   0   0   0   0   0   0   0   0   0   0   0   0   0   0   0   0   0\n",
            "    0   0   0   0   0   0   0   0   0   0]\n",
            " [  0   0   0   0   0   0   0   0   0   0   0   0   0   0   0   0   0   0\n",
            "    0   0   0   0   0   0   0   0   0   0]\n",
            " [  0   0   0   0   0   0   0   0   0   0   0   0   0   0   0   0   0   0\n",
            "    0   0   0   0   0   0   0   0   0   0]]\n"
          ]
        }
      ]
    },
    {
      "cell_type": "code",
      "source": [
        "print(y_train[0])\n",
        "\n",
        "#answer of the first image"
      ],
      "metadata": {
        "colab": {
          "base_uri": "https://localhost:8080/"
        },
        "id": "a8bS3zCQhbPM",
        "outputId": "753d3fa9-6def-4b13-ac1a-84fcefde4249"
      },
      "execution_count": 19,
      "outputs": [
        {
          "output_type": "stream",
          "name": "stdout",
          "text": [
            "5\n"
          ]
        }
      ]
    },
    {
      "cell_type": "code",
      "source": [
        "import matplotlib.pyplot as plt\n",
        "plt.imshow(x_train[0])\n",
        "\n",
        "#show first image"
      ],
      "metadata": {
        "colab": {
          "base_uri": "https://localhost:8080/",
          "height": 448
        },
        "id": "axE7tfj2hkbQ",
        "outputId": "4e55d580-c7c8-4dd9-c8cf-bde6830cdf45"
      },
      "execution_count": 20,
      "outputs": [
        {
          "output_type": "execute_result",
          "data": {
            "text/plain": [
              "<matplotlib.image.AxesImage at 0x7b911c18cc10>"
            ]
          },
          "metadata": {},
          "execution_count": 20
        },
        {
          "output_type": "display_data",
          "data": {
            "text/plain": [
              "<Figure size 640x480 with 1 Axes>"
            ],
            "image/png": "[encoded data removed]"
          },
          "metadata": {}
        }
      ]
    },
    {
      "cell_type": "code",
      "source": [
        "x_train=x_train/255\n",
        "x_test=x_test/255\n",
        "\n",
        "#generalize the pixel value so that reduce computational cost"
      ],
      "metadata": {
        "id": "zwWvYPYShyut"
      },
      "execution_count": 21,
      "outputs": []
    },
    {
      "cell_type": "code",
      "source": [
        "x_train[0]\n",
        "\n",
        "#1st image after generalization"
      ],
      "metadata": {
        "colab": {
          "base_uri": "https://localhost:8080/"
        },
        "id": "B5AURhOxiwZC",
        "outputId": "7f2c29a3-0689-4057-e53b-62781d371bac"
      },
      "execution_count": 22,
      "outputs": [
        {
          "output_type": "execute_result",
          "data": {
            "text/plain": [
              "array([[0.        , 0.        , 0.        , 0.        , 0.        ,\n",
              "        0.        , 0.        , 0.        , 0.        , 0.        ,\n",
              "        0.        , 0.        , 0.        , 0.        , 0.        ,\n",
              "        0.        , 0.        , 0.        , 0.        , 0.        ,\n",
              "        0.        , 0.        , 0.        , 0.        , 0.        ,\n",
              "        0.        , 0.        , 0.        ],\n",
              "       [0.        , 0.        , 0.        , 0.        , 0.        ,\n",
              "        0.        , 0.        , 0.        , 0.        , 0.        ,\n",
              "        0.        , 0.        , 0.        , 0.        , 0.        ,\n",
              "        0.        , 0.        , 0.        , 0.        , 0.        ,\n",
              "        0.        , 0.        , 0.        , 0.        , 0.        ,\n",
              "        0.        , 0.        , 0.        ],\n",
              "       [0.        , 0.        , 0.        , 0.        , 0.        ,\n",
              "        0.        , 0.        , 0.        , 0.        , 0.        ,\n",
              "        0.        , 0.        , 0.        , 0.        , 0.        ,\n",
              "        0.        , 0.        , 0.        , 0.        , 0.        ,\n",
              "        0.        , 0.        , 0.        , 0.        , 0.        ,\n",
              "        0.        , 0.        , 0.        ],\n",
              "       [0.        , 0.        , 0.        , 0.        , 0.        ,\n",
              "        0.        , 0.        , 0.        , 0.        , 0.        ,\n",
              "        0.        , 0.        , 0.        , 0.        , 0.        ,\n",
              "        0.        , 0.        , 0.        , 0.        , 0.        ,\n",
              "        0.        , 0.        , 0.        , 0.        , 0.        ,\n",
              "        0.        , 0.        , 0.        ],\n",
              "       [0.        , 0.        , 0.        , 0.        , 0.        ,\n",
              "        0.        , 0.        , 0.        , 0.        , 0.        ,\n",
              "        0.        , 0.        , 0.        , 0.        , 0.        ,\n",
              "        0.        , 0.        , 0.        , 0.        , 0.        ,\n",
              "        0.        , 0.        , 0.        , 0.        , 0.        ,\n",
              "        0.        , 0.        , 0.        ],\n",
              "       [0.        , 0.        , 0.        , 0.        , 0.        ,\n",
              "        0.        , 0.        , 0.        , 0.        , 0.        ,\n",
              "        0.        , 0.        , 0.01176471, 0.07058824, 0.07058824,\n",
              "        0.07058824, 0.49411765, 0.53333333, 0.68627451, 0.10196078,\n",
              "        0.65098039, 1.        , 0.96862745, 0.49803922, 0.        ,\n",
              "        0.        , 0.        , 0.        ],\n",
              "       [0.        , 0.        , 0.        , 0.        , 0.        ,\n",
              "        0.        , 0.        , 0.        , 0.11764706, 0.14117647,\n",
              "        0.36862745, 0.60392157, 0.66666667, 0.99215686, 0.99215686,\n",
              "        0.99215686, 0.99215686, 0.99215686, 0.88235294, 0.6745098 ,\n",
              "        0.99215686, 0.94901961, 0.76470588, 0.25098039, 0.        ,\n",
              "        0.        , 0.        , 0.        ],\n",
              "       [0.        , 0.        , 0.        , 0.        , 0.        ,\n",
              "        0.        , 0.        , 0.19215686, 0.93333333, 0.99215686,\n",
              "        0.99215686, 0.99215686, 0.99215686, 0.99215686, 0.99215686,\n",
              "        0.99215686, 0.99215686, 0.98431373, 0.36470588, 0.32156863,\n",
              "        0.32156863, 0.21960784, 0.15294118, 0.        , 0.        ,\n",
              "        0.        , 0.        , 0.        ],\n",
              "       [0.        , 0.        , 0.        , 0.        , 0.        ,\n",
              "        0.        , 0.        , 0.07058824, 0.85882353, 0.99215686,\n",
              "        0.99215686, 0.99215686, 0.99215686, 0.99215686, 0.77647059,\n",
              "        0.71372549, 0.96862745, 0.94509804, 0.        , 0.        ,\n",
              "        0.        , 0.        , 0.        , 0.        , 0.        ,\n",
              "        0.        , 0.        , 0.        ],\n",
              "       [0.        , 0.        , 0.        , 0.        , 0.        ,\n",
              "        0.        , 0.        , 0.        , 0.31372549, 0.61176471,\n",
              "        0.41960784, 0.99215686, 0.99215686, 0.80392157, 0.04313725,\n",
              "        0.        , 0.16862745, 0.60392157, 0.        , 0.        ,\n",
              "        0.        , 0.        , 0.        , 0.        , 0.        ,\n",
              "        0.        , 0.        , 0.        ],\n",
              "       [0.        , 0.        , 0.        , 0.        , 0.        ,\n",
              "        0.        , 0.        , 0.        , 0.        , 0.05490196,\n",
              "        0.00392157, 0.60392157, 0.99215686, 0.35294118, 0.        ,\n",
              "        0.        , 0.        , 0.        , 0.        , 0.        ,\n",
              "        0.        , 0.        , 0.        , 0.        , 0.        ,\n",
              "        0.        , 0.        , 0.        ],\n",
              "       [0.        , 0.        , 0.        , 0.        , 0.        ,\n",
              "        0.        , 0.        , 0.        , 0.        , 0.        ,\n",
              "        0.        , 0.54509804, 0.99215686, 0.74509804, 0.00784314,\n",
              "        0.        , 0.        , 0.        , 0.        , 0.        ,\n",
              "        0.        , 0.        , 0.        , 0.        , 0.        ,\n",
              "        0.        , 0.        , 0.        ],\n",
              "       [0.        , 0.        , 0.        , 0.        , 0.        ,\n",
              "        0.        , 0.        , 0.        , 0.        , 0.        ,\n",
              "        0.        , 0.04313725, 0.74509804, 0.99215686, 0.2745098 ,\n",
              "        0.        , 0.        , 0.        , 0.        , 0.        ,\n",
              "        0.        , 0.        , 0.        , 0.        , 0.        ,\n",
              "        0.        , 0.        , 0.        ],\n",
              "       [0.        , 0.        , 0.        , 0.        , 0.        ,\n",
              "        0.        , 0.        , 0.        , 0.        , 0.        ,\n",
              "        0.        , 0.        , 0.1372549 , 0.94509804, 0.88235294,\n",
              "        0.62745098, 0.42352941, 0.00392157, 0.        , 0.        ,\n",
              "        0.        , 0.        , 0.        , 0.        , 0.        ,\n",
              "        0.        , 0.        , 0.        ],\n",
              "       [0.        , 0.        , 0.        , 0.        , 0.        ,\n",
              "        0.        , 0.        , 0.        , 0.        , 0.        ,\n",
              "        0.        , 0.        , 0.        , 0.31764706, 0.94117647,\n",
              "        0.99215686, 0.99215686, 0.46666667, 0.09803922, 0.        ,\n",
              "        0.        , 0.        , 0.        , 0.        , 0.        ,\n",
              "        0.        , 0.        , 0.        ],\n",
              "       [0.        , 0.        , 0.        , 0.        , 0.        ,\n",
              "        0.        , 0.        , 0.        , 0.        , 0.        ,\n",
              "        0.        , 0.        , 0.        , 0.        , 0.17647059,\n",
              "        0.72941176, 0.99215686, 0.99215686, 0.58823529, 0.10588235,\n",
              "        0.        , 0.        , 0.        , 0.        , 0.        ,\n",
              "        0.        , 0.        , 0.        ],\n",
              "       [0.        , 0.        , 0.        , 0.        , 0.        ,\n",
              "        0.        , 0.        , 0.        , 0.        , 0.        ,\n",
              "        0.        , 0.        , 0.        , 0.        , 0.        ,\n",
              "        0.0627451 , 0.36470588, 0.98823529, 0.99215686, 0.73333333,\n",
              "        0.        , 0.        , 0.        , 0.        , 0.        ,\n",
              "        0.        , 0.        , 0.        ],\n",
              "       [0.        , 0.        , 0.        , 0.        , 0.        ,\n",
              "        0.        , 0.        , 0.        , 0.        , 0.        ,\n",
              "        0.        , 0.        , 0.        , 0.        , 0.        ,\n",
              "        0.        , 0.        , 0.97647059, 0.99215686, 0.97647059,\n",
              "        0.25098039, 0.        , 0.        , 0.        , 0.        ,\n",
              "        0.        , 0.        , 0.        ],\n",
              "       [0.        , 0.        , 0.        , 0.        , 0.        ,\n",
              "        0.        , 0.        , 0.        , 0.        , 0.        ,\n",
              "        0.        , 0.        , 0.        , 0.        , 0.18039216,\n",
              "        0.50980392, 0.71764706, 0.99215686, 0.99215686, 0.81176471,\n",
              "        0.00784314, 0.        , 0.        , 0.        , 0.        ,\n",
              "        0.        , 0.        , 0.        ],\n",
              "       [0.        , 0.        , 0.        , 0.        , 0.        ,\n",
              "        0.        , 0.        , 0.        , 0.        , 0.        ,\n",
              "        0.        , 0.        , 0.15294118, 0.58039216, 0.89803922,\n",
              "        0.99215686, 0.99215686, 0.99215686, 0.98039216, 0.71372549,\n",
              "        0.        , 0.        , 0.        , 0.        , 0.        ,\n",
              "        0.        , 0.        , 0.        ],\n",
              "       [0.        , 0.        , 0.        , 0.        , 0.        ,\n",
              "        0.        , 0.        , 0.        , 0.        , 0.        ,\n",
              "        0.09411765, 0.44705882, 0.86666667, 0.99215686, 0.99215686,\n",
              "        0.99215686, 0.99215686, 0.78823529, 0.30588235, 0.        ,\n",
              "        0.        , 0.        , 0.        , 0.        , 0.        ,\n",
              "        0.        , 0.        , 0.        ],\n",
              "       [0.        , 0.        , 0.        , 0.        , 0.        ,\n",
              "        0.        , 0.        , 0.        , 0.09019608, 0.25882353,\n",
              "        0.83529412, 0.99215686, 0.99215686, 0.99215686, 0.99215686,\n",
              "        0.77647059, 0.31764706, 0.00784314, 0.        , 0.        ,\n",
              "        0.        , 0.        , 0.        , 0.        , 0.        ,\n",
              "        0.        , 0.        , 0.        ],\n",
              "       [0.        , 0.        , 0.        , 0.        , 0.        ,\n",
              "        0.        , 0.07058824, 0.67058824, 0.85882353, 0.99215686,\n",
              "        0.99215686, 0.99215686, 0.99215686, 0.76470588, 0.31372549,\n",
              "        0.03529412, 0.        , 0.        , 0.        , 0.        ,\n",
              "        0.        , 0.        , 0.        , 0.        , 0.        ,\n",
              "        0.        , 0.        , 0.        ],\n",
              "       [0.        , 0.        , 0.        , 0.        , 0.21568627,\n",
              "        0.6745098 , 0.88627451, 0.99215686, 0.99215686, 0.99215686,\n",
              "        0.99215686, 0.95686275, 0.52156863, 0.04313725, 0.        ,\n",
              "        0.        , 0.        , 0.        , 0.        , 0.        ,\n",
              "        0.        , 0.        , 0.        , 0.        , 0.        ,\n",
              "        0.        , 0.        , 0.        ],\n",
              "       [0.        , 0.        , 0.        , 0.        , 0.53333333,\n",
              "        0.99215686, 0.99215686, 0.99215686, 0.83137255, 0.52941176,\n",
              "        0.51764706, 0.0627451 , 0.        , 0.        , 0.        ,\n",
              "        0.        , 0.        , 0.        , 0.        , 0.        ,\n",
              "        0.        , 0.        , 0.        , 0.        , 0.        ,\n",
              "        0.        , 0.        , 0.        ],\n",
              "       [0.        , 0.        , 0.        , 0.        , 0.        ,\n",
              "        0.        , 0.        , 0.        , 0.        , 0.        ,\n",
              "        0.        , 0.        , 0.        , 0.        , 0.        ,\n",
              "        0.        , 0.        , 0.        , 0.        , 0.        ,\n",
              "        0.        , 0.        , 0.        , 0.        , 0.        ,\n",
              "        0.        , 0.        , 0.        ],\n",
              "       [0.        , 0.        , 0.        , 0.        , 0.        ,\n",
              "        0.        , 0.        , 0.        , 0.        , 0.        ,\n",
              "        0.        , 0.        , 0.        , 0.        , 0.        ,\n",
              "        0.        , 0.        , 0.        , 0.        , 0.        ,\n",
              "        0.        , 0.        , 0.        , 0.        , 0.        ,\n",
              "        0.        , 0.        , 0.        ],\n",
              "       [0.        , 0.        , 0.        , 0.        , 0.        ,\n",
              "        0.        , 0.        , 0.        , 0.        , 0.        ,\n",
              "        0.        , 0.        , 0.        , 0.        , 0.        ,\n",
              "        0.        , 0.        , 0.        , 0.        , 0.        ,\n",
              "        0.        , 0.        , 0.        , 0.        , 0.        ,\n",
              "        0.        , 0.        , 0.        ]])"
            ]
          },
          "metadata": {},
          "execution_count": 22
        }
      ]
    },
    {
      "cell_type": "code",
      "source": [
        "from keras import Sequential\n",
        "from keras.layers import Dense,Flatten\n",
        "\n",
        "#when want to train model sequentially then we use Sequential class\n",
        "#Dense class is used to establish fully connected network"
      ],
      "metadata": {
        "id": "lyHYgkRvjCJl"
      },
      "execution_count": 23,
      "outputs": []
    },
    {
      "cell_type": "code",
      "source": [
        "model = Sequential()\n",
        "\n",
        "model.add(Flatten(input_shape=(28,28)))\n",
        "model.add(Dense(128,activation='relu'))\n",
        "model.add(Dense(32,activation='relu'))\n",
        "model.add(Dense(10,activation='softmax'))\n",
        "\n",
        "#model architecture\n",
        "#128 node/neurons in oth layer\n",
        "#32 node in 1st layer\n",
        "#10 node in 2nd layer\n",
        "\n",
        "#when we do multiclass classification then last layer contain n no of nodes where n is the number of class present in our dataset.\n",
        "#for this layer activation function should be softmax"
      ],
      "metadata": {
        "id": "IMw4BdUejWkI"
      },
      "execution_count": 24,
      "outputs": []
    },
    {
      "cell_type": "code",
      "source": [
        "model.summary()\n",
        "\n",
        "#getting model summary"
      ],
      "metadata": {
        "colab": {
          "base_uri": "https://localhost:8080/"
        },
        "id": "5kCVYpgMkPw0",
        "outputId": "b4cb1a57-a068-450b-fee0-9bdfe1c96d5a"
      },
      "execution_count": 25,
      "outputs": [
        {
          "output_type": "stream",
          "name": "stdout",
          "text": [
            "Model: \"sequential_1\"\n",
            "_________________________________________________________________\n",
            " Layer (type)                Output Shape              Param #   \n",
            "=================================================================\n",
            " flatten_1 (Flatten)         (None, 784)               0         \n",
            "                                                                 \n",
            " dense_3 (Dense)             (None, 128)               100480    \n",
            "                                                                 \n",
            " dense_4 (Dense)             (None, 32)                4128      \n",
            "                                                                 \n",
            " dense_5 (Dense)             (None, 10)                330       \n",
            "                                                                 \n",
            "=================================================================\n",
            "Total params: 104938 (409.91 KB)\n",
            "Trainable params: 104938 (409.91 KB)\n",
            "Non-trainable params: 0 (0.00 Byte)\n",
            "_________________________________________________________________\n"
          ]
        }
      ]
    },
    {
      "cell_type": "markdown",
      "source": [
        "* formula to calculae trainable perameter for perticular layer,\n",
        "* **no_of_pevious_layer_nodes * no_of_currunt_layer_nodes + no_of_currunt_layer_nodes**\n",
        "* in 0th layer:\n",
        "* trainable perameter= 784*128 + 128 =100480(28 * 28 pixels are there = 784)\n",
        "* mapping, 784= no_of_input pixels as previous layer is input layer\n",
        "*          128= no_of_currunt_layer_nodes(layer 0)\n",
        "*          128= no_of_currunt_layer_nodes(layer 0)\n",
        "* in 1st layer:\n",
        "* trainable perameter= 128(Layer 0)*32(Layer 1) +32(Layer 1)=4128\n",
        "* in 2nd layer:\n",
        "* trainable perameter= 32(Layer 1)*10(Layer 2) + 10(Layer 2)=330\n",
        "* **Total trainable perameters in the model= 100480 + 4128 + 330 = 104938**\n",
        "\n"
      ],
      "metadata": {
        "id": "EKpi6duxOiq4"
      }
    },
    {
      "cell_type": "code",
      "source": [
        "model.compile(loss='sparse_categorical_crossentropy',optimizer='Adam',metrics=['accuracy'])\n",
        "\n",
        "#when we doing binary class classification then loss should be binary_crossentropy\n",
        "#if select optimizer as Adam\n",
        "#metrics=['accuracy']\n",
        "#when I want to show accuracy along with loss during training the I have to pass dictionary like this"
      ],
      "metadata": {
        "id": "2uhPmFXUkUzH"
      },
      "execution_count": 26,
      "outputs": []
    },
    {
      "cell_type": "code",
      "source": [
        "history = model.fit(x_train,y_train,epochs=50,validation_split=0.2)\n",
        "\n",
        "#model training and store model in history"
      ],
      "metadata": {
        "colab": {
          "base_uri": "https://localhost:8080/"
        },
        "id": "ofeLVwbHks0R",
        "outputId": "c17cb573-843b-4df3-acdd-798c51804305"
      },
      "execution_count": 27,
      "outputs": [
        {
          "output_type": "stream",
          "name": "stdout",
          "text": [
            "Epoch 1/50\n",
            "1500/1500 [==============================] - 7s 3ms/step - loss: 0.2806 - accuracy: 0.9171 - val_loss: 0.1568 - val_accuracy: 0.9525\n",
            "Epoch 2/50\n",
            "1500/1500 [==============================] - 5s 4ms/step - loss: 0.1207 - accuracy: 0.9640 - val_loss: 0.1196 - val_accuracy: 0.9653\n",
            "Epoch 3/50\n",
            "1500/1500 [==============================] - 5s 3ms/step - loss: 0.0824 - accuracy: 0.9751 - val_loss: 0.1018 - val_accuracy: 0.9704\n",
            "Epoch 4/50\n",
            "1500/1500 [==============================] - 5s 3ms/step - loss: 0.0609 - accuracy: 0.9811 - val_loss: 0.0999 - val_accuracy: 0.9707\n",
            "Epoch 5/50\n",
            "1500/1500 [==============================] - 5s 4ms/step - loss: 0.0489 - accuracy: 0.9843 - val_loss: 0.1022 - val_accuracy: 0.9703\n",
            "Epoch 6/50\n",
            "1500/1500 [==============================] - 5s 3ms/step - loss: 0.0390 - accuracy: 0.9876 - val_loss: 0.1110 - val_accuracy: 0.9698\n",
            "Epoch 7/50\n",
            "1500/1500 [==============================] - 6s 4ms/step - loss: 0.0315 - accuracy: 0.9899 - val_loss: 0.1055 - val_accuracy: 0.9739\n",
            "Epoch 8/50\n",
            "1500/1500 [==============================] - 5s 3ms/step - loss: 0.0267 - accuracy: 0.9909 - val_loss: 0.0935 - val_accuracy: 0.9759\n",
            "Epoch 9/50\n",
            "1500/1500 [==============================] - 5s 3ms/step - loss: 0.0222 - accuracy: 0.9928 - val_loss: 0.1225 - val_accuracy: 0.9703\n",
            "Epoch 10/50\n",
            "1500/1500 [==============================] - 5s 4ms/step - loss: 0.0191 - accuracy: 0.9939 - val_loss: 0.1184 - val_accuracy: 0.9725\n",
            "Epoch 11/50\n",
            "1500/1500 [==============================] - 5s 3ms/step - loss: 0.0188 - accuracy: 0.9936 - val_loss: 0.1130 - val_accuracy: 0.9734\n",
            "Epoch 12/50\n",
            "1500/1500 [==============================] - 5s 3ms/step - loss: 0.0145 - accuracy: 0.9951 - val_loss: 0.1442 - val_accuracy: 0.9681\n",
            "Epoch 13/50\n",
            "1500/1500 [==============================] - 5s 3ms/step - loss: 0.0127 - accuracy: 0.9956 - val_loss: 0.1585 - val_accuracy: 0.9689\n",
            "Epoch 14/50\n",
            "1500/1500 [==============================] - 5s 3ms/step - loss: 0.0128 - accuracy: 0.9955 - val_loss: 0.1254 - val_accuracy: 0.9751\n",
            "Epoch 15/50\n",
            "1500/1500 [==============================] - 5s 4ms/step - loss: 0.0102 - accuracy: 0.9966 - val_loss: 0.1325 - val_accuracy: 0.9729\n",
            "Epoch 16/50\n",
            "1500/1500 [==============================] - 5s 3ms/step - loss: 0.0113 - accuracy: 0.9962 - val_loss: 0.1414 - val_accuracy: 0.9742\n",
            "Epoch 17/50\n",
            "1500/1500 [==============================] - 5s 3ms/step - loss: 0.0126 - accuracy: 0.9959 - val_loss: 0.1411 - val_accuracy: 0.9747\n",
            "Epoch 18/50\n",
            "1500/1500 [==============================] - 5s 3ms/step - loss: 0.0088 - accuracy: 0.9972 - val_loss: 0.1511 - val_accuracy: 0.9743\n",
            "Epoch 19/50\n",
            "1500/1500 [==============================] - 5s 3ms/step - loss: 0.0112 - accuracy: 0.9962 - val_loss: 0.1426 - val_accuracy: 0.9752\n",
            "Epoch 20/50\n",
            "1500/1500 [==============================] - 6s 4ms/step - loss: 0.0092 - accuracy: 0.9969 - val_loss: 0.1597 - val_accuracy: 0.9722\n",
            "Epoch 21/50\n",
            "1500/1500 [==============================] - 5s 3ms/step - loss: 0.0084 - accuracy: 0.9973 - val_loss: 0.1470 - val_accuracy: 0.9743\n",
            "Epoch 22/50\n",
            "1500/1500 [==============================] - 5s 3ms/step - loss: 0.0109 - accuracy: 0.9962 - val_loss: 0.1547 - val_accuracy: 0.9768\n",
            "Epoch 23/50\n",
            "1500/1500 [==============================] - 5s 4ms/step - loss: 0.0094 - accuracy: 0.9969 - val_loss: 0.1705 - val_accuracy: 0.9724\n",
            "Epoch 24/50\n",
            "1500/1500 [==============================] - 5s 3ms/step - loss: 0.0087 - accuracy: 0.9974 - val_loss: 0.1561 - val_accuracy: 0.9752\n",
            "Epoch 25/50\n",
            "1500/1500 [==============================] - 6s 4ms/step - loss: 0.0073 - accuracy: 0.9973 - val_loss: 0.1509 - val_accuracy: 0.9751\n",
            "Epoch 26/50\n",
            "1500/1500 [==============================] - 5s 3ms/step - loss: 0.0078 - accuracy: 0.9974 - val_loss: 0.1692 - val_accuracy: 0.9749\n",
            "Epoch 27/50\n",
            "1500/1500 [==============================] - 5s 3ms/step - loss: 0.0065 - accuracy: 0.9979 - val_loss: 0.2042 - val_accuracy: 0.9706\n",
            "Epoch 28/50\n",
            "1500/1500 [==============================] - 6s 4ms/step - loss: 0.0083 - accuracy: 0.9974 - val_loss: 0.1640 - val_accuracy: 0.9747\n",
            "Epoch 29/50\n",
            "1500/1500 [==============================] - 5s 3ms/step - loss: 0.0076 - accuracy: 0.9975 - val_loss: 0.1667 - val_accuracy: 0.9752\n",
            "Epoch 30/50\n",
            "1500/1500 [==============================] - 6s 4ms/step - loss: 0.0050 - accuracy: 0.9987 - val_loss: 0.1511 - val_accuracy: 0.9783\n",
            "Epoch 31/50\n",
            "1500/1500 [==============================] - 5s 3ms/step - loss: 0.0073 - accuracy: 0.9978 - val_loss: 0.1983 - val_accuracy: 0.9727\n",
            "Epoch 32/50\n",
            "1500/1500 [==============================] - 5s 3ms/step - loss: 0.0082 - accuracy: 0.9971 - val_loss: 0.1953 - val_accuracy: 0.9737\n",
            "Epoch 33/50\n",
            "1500/1500 [==============================] - 6s 4ms/step - loss: 0.0056 - accuracy: 0.9981 - val_loss: 0.1749 - val_accuracy: 0.9758\n",
            "Epoch 34/50\n",
            "1500/1500 [==============================] - 5s 3ms/step - loss: 0.0037 - accuracy: 0.9989 - val_loss: 0.2042 - val_accuracy: 0.9730\n",
            "Epoch 35/50\n",
            "1500/1500 [==============================] - 5s 4ms/step - loss: 0.0104 - accuracy: 0.9970 - val_loss: 0.1971 - val_accuracy: 0.9737\n",
            "Epoch 36/50\n",
            "1500/1500 [==============================] - 5s 3ms/step - loss: 0.0030 - accuracy: 0.9987 - val_loss: 0.1731 - val_accuracy: 0.9764\n",
            "Epoch 37/50\n",
            "1500/1500 [==============================] - 5s 3ms/step - loss: 0.0078 - accuracy: 0.9974 - val_loss: 0.1896 - val_accuracy: 0.9756\n",
            "Epoch 38/50\n",
            "1500/1500 [==============================] - 5s 4ms/step - loss: 0.0049 - accuracy: 0.9986 - val_loss: 0.2020 - val_accuracy: 0.9752\n",
            "Epoch 39/50\n",
            "1500/1500 [==============================] - 5s 3ms/step - loss: 0.0071 - accuracy: 0.9979 - val_loss: 0.2200 - val_accuracy: 0.9740\n",
            "Epoch 40/50\n",
            "1500/1500 [==============================] - 5s 4ms/step - loss: 0.0058 - accuracy: 0.9980 - val_loss: 0.1934 - val_accuracy: 0.9749\n",
            "Epoch 41/50\n",
            "1500/1500 [==============================] - 5s 3ms/step - loss: 0.0054 - accuracy: 0.9984 - val_loss: 0.2236 - val_accuracy: 0.9716\n",
            "Epoch 42/50\n",
            "1500/1500 [==============================] - 5s 3ms/step - loss: 0.0076 - accuracy: 0.9977 - val_loss: 0.2126 - val_accuracy: 0.9733\n",
            "Epoch 43/50\n",
            "1500/1500 [==============================] - 6s 4ms/step - loss: 0.0056 - accuracy: 0.9983 - val_loss: 0.1925 - val_accuracy: 0.9770\n",
            "Epoch 44/50\n",
            "1500/1500 [==============================] - 5s 3ms/step - loss: 0.0042 - accuracy: 0.9988 - val_loss: 0.2311 - val_accuracy: 0.9743\n",
            "Epoch 45/50\n",
            "1500/1500 [==============================] - 5s 4ms/step - loss: 0.0083 - accuracy: 0.9974 - val_loss: 0.1901 - val_accuracy: 0.9772\n",
            "Epoch 46/50\n",
            "1500/1500 [==============================] - 5s 3ms/step - loss: 0.0053 - accuracy: 0.9986 - val_loss: 0.2486 - val_accuracy: 0.9747\n",
            "Epoch 47/50\n",
            "1500/1500 [==============================] - 5s 3ms/step - loss: 0.0070 - accuracy: 0.9981 - val_loss: 0.1843 - val_accuracy: 0.9787\n",
            "Epoch 48/50\n",
            "1500/1500 [==============================] - 6s 4ms/step - loss: 0.0052 - accuracy: 0.9985 - val_loss: 0.2212 - val_accuracy: 0.9743\n",
            "Epoch 49/50\n",
            "1500/1500 [==============================] - 5s 3ms/step - loss: 0.0046 - accuracy: 0.9983 - val_loss: 0.2232 - val_accuracy: 0.9755\n",
            "Epoch 50/50\n",
            "1500/1500 [==============================] - 5s 3ms/step - loss: 0.0055 - accuracy: 0.9986 - val_loss: 0.2120 - val_accuracy: 0.9766\n"
          ]
        }
      ]
    },
    {
      "cell_type": "code",
      "source": [
        "y_probability=model.predict(x_test)\n",
        "y_probability\n",
        "\n",
        "#testing the model\n",
        "#model.predict() gives us the probability of the perticulat object belongs to one perticular class\n",
        "#means let object = 3,then probability of 3 = 0, probability of 3 = 2, probability of 3 = 3,etc...\n",
        "#in y_probability we stored each class probability\n",
        "#we have to convert it such a way that it gives us only one answer\n"
      ],
      "metadata": {
        "colab": {
          "base_uri": "https://localhost:8080/"
        },
        "id": "lQDrZAnroGaQ",
        "outputId": "a5062e70-0137-4b32-96c3-6dca4f4a8747"
      },
      "execution_count": 28,
      "outputs": [
        {
          "output_type": "stream",
          "name": "stdout",
          "text": [
            "313/313 [==============================] - 1s 2ms/step\n"
          ]
        },
        {
          "output_type": "execute_result",
          "data": {
            "text/plain": [
              "array([[7.9150827e-25, 2.0821890e-18, 8.4633036e-20, ..., 1.0000000e+00,\n",
              "        1.9216511e-19, 6.7806316e-11],\n",
              "       [3.2314047e-29, 7.0270007e-16, 1.0000000e+00, ..., 1.1107627e-27,\n",
              "        1.1028030e-14, 2.9255873e-35],\n",
              "       [8.1127895e-21, 1.0000000e+00, 6.3038312e-12, ..., 4.4515268e-13,\n",
              "        5.5745620e-08, 3.8729158e-15],\n",
              "       ...,\n",
              "       [0.0000000e+00, 1.6038248e-26, 0.0000000e+00, ..., 2.7110307e-24,\n",
              "        2.2060415e-28, 1.3174537e-20],\n",
              "       [0.0000000e+00, 1.1803797e-38, 0.0000000e+00, ..., 2.5945572e-28,\n",
              "        6.9088827e-15, 0.0000000e+00],\n",
              "       [4.0351900e-31, 2.9169687e-38, 6.6297249e-30, ..., 0.0000000e+00,\n",
              "        8.1518775e-36, 1.3991100e-34]], dtype=float32)"
            ]
          },
          "metadata": {},
          "execution_count": 28
        }
      ]
    },
    {
      "cell_type": "code",
      "source": [
        "y_predict= y_probability.argmax(axis=1)\n",
        "y_predict\n",
        "\n",
        "# here argmax() function gives us the class whose probability is maximum"
      ],
      "metadata": {
        "colab": {
          "base_uri": "https://localhost:8080/"
        },
        "id": "4m6EYyR3oebi",
        "outputId": "0c5ec932-0a93-4b2e-f6b8-2575949dd96c"
      },
      "execution_count": 29,
      "outputs": [
        {
          "output_type": "execute_result",
          "data": {
            "text/plain": [
              "array([7, 2, 1, ..., 4, 5, 6])"
            ]
          },
          "metadata": {},
          "execution_count": 29
        }
      ]
    },
    {
      "cell_type": "markdown",
      "source": [
        "*you can see that,"
      ],
      "metadata": {
        "id": "O5LXZNG9RmgZ"
      }
    },
    {
      "cell_type": "code",
      "source": [
        "from sklearn.metrics import accuracy_score\n",
        "accuracy_score(y_test,y_predict)\n",
        "\n",
        "#when we do classification problem for model evaluation we use accuracy_score metrics"
      ],
      "metadata": {
        "colab": {
          "base_uri": "https://localhost:8080/"
        },
        "id": "7znQYo5Unf9o",
        "outputId": "b13d736a-7682-4b75-9e72-40868d3e173e"
      },
      "execution_count": 30,
      "outputs": [
        {
          "output_type": "execute_result",
          "data": {
            "text/plain": [
              "0.9767"
            ]
          },
          "metadata": {},
          "execution_count": 30
        }
      ]
    },
    {
      "cell_type": "code",
      "source": [
        "plt.plot(history.history['loss'])\n",
        "plt.plot(history.history['val_loss'])\n",
        "\n",
        "#making graph between training loss and validation loss"
      ],
      "metadata": {
        "colab": {
          "base_uri": "https://localhost:8080/",
          "height": 448
        },
        "id": "71JC7nKxpGwy",
        "outputId": "55e50dff-3fe6-47c0-ebc4-1f4b91bf9752"
      },
      "execution_count": 31,
      "outputs": [
        {
          "output_type": "execute_result",
          "data": {
            "text/plain": [
              "[<matplotlib.lines.Line2D at 0x7b90a0276320>]"
            ]
          },
          "metadata": {},
          "execution_count": 31
        },
        {
          "output_type": "display_data",
          "data": {
            "text/plain": [
              "<Figure size 640x480 with 1 Axes>"
            ],
            "image/png": "[encoded data removed]"
          },
          "metadata": {}
        }
      ]
    },
    {
      "cell_type": "code",
      "source": [
        "plt.plot(history.history['accuracy'])\n",
        "plt.plot(history.history['val_accuracy'])\n",
        "\n",
        "#making graph betwee training accuracy and validation accuracy"
      ],
      "metadata": {
        "colab": {
          "base_uri": "https://localhost:8080/",
          "height": 448
        },
        "id": "noHrRQhmpvZA",
        "outputId": "90ac2231-bd54-44b4-b2cf-998cfc02d131"
      },
      "execution_count": 32,
      "outputs": [
        {
          "output_type": "execute_result",
          "data": {
            "text/plain": [
              "[<matplotlib.lines.Line2D at 0x7b90a02575e0>]"
            ]
          },
          "metadata": {},
          "execution_count": 32
        },
        {
          "output_type": "display_data",
          "data": {
            "text/plain": [
              "<Figure size 640x480 with 1 Axes>"
            ],
            "image/png": "[encoded data removed]"
          },
          "metadata": {}
        }
      ]
    }
  ]
}